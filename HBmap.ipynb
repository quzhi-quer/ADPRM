{
 "cells": [
  {
   "cell_type": "code",
   "execution_count": 1,
   "id": "845e795f",
   "metadata": {
    "ExecuteTime": {
     "end_time": "2022-08-25T13:28:50.265368Z",
     "start_time": "2022-08-25T13:28:46.926007Z"
    }
   },
   "outputs": [],
   "source": [
    "import pandas as pd\n",
    "import numpy as np\n",
    "import math\n",
    "import struct\n",
    "import os\n",
    "import re\n",
    "import matplotlib.pyplot as plt \n",
    "import mdtraj\n",
    "#required files: mol.csv contains element mass/charge informations"
   ]
  },
  {
   "cell_type": "code",
   "execution_count": 2,
   "id": "1cd201b9-038d-4c67-84e0-11169c1082bb",
   "metadata": {},
   "outputs": [],
   "source": [
    "mddir=\"/media/pangpang/quzhi/GapR_slide_summary/10gc_5at/cmd202110/\"\n",
    "traj=mdtraj.load(mddir+'md_01ns.crd',top=mddir+'md.pdb')[:10000]\n",
    "top=traj.topology"
   ]
  },
  {
   "cell_type": "code",
   "execution_count": 5,
   "id": "72a052fb-a696-43df-a846-7efe93da2445",
   "metadata": {},
   "outputs": [],
   "source": [
    "mddir=\"/media/pangpang/quzhi/GapR_slide_summary/10at_5gc/cmd2111/\"\n",
    "traj=mdtraj.load(mddir+'md1us.crd',top=mddir+'md.pdb')[:10000]\n",
    "top=traj.topology"
   ]
  },
  {
   "cell_type": "code",
   "execution_count": 6,
   "id": "a5c17494-d0d0-4e35-bf6e-f2c7d95b742f",
   "metadata": {},
   "outputs": [],
   "source": [
    "DF=top.select(\"name P and resid 1 to 20\")\n",
    "DR=top.select(\"name P and resid 21 to 40\")\n",
    "DNA=top.select(\"name P and resid 1 to 40\")\n",
    "PA=top.select(\"name CA and resid 41 to 118\")\n",
    "PB=top.select(\"name CA and resid 119 to 196\")\n",
    "PC=top.select(\"name CA and resid 197 to 274\")\n",
    "PD=top.select(\"name CA and resid 275 to 352\")\n",
    "PAB=top.select(\"name CA and resid 41 to 196\")\n",
    "PCD=top.select(\"name CA and resid 197 to 352\")\n",
    "P=top.select(\"name CA and resid 41 to 352\")\n"
   ]
  },
  {
   "cell_type": "code",
   "execution_count": 7,
   "id": "9f348686-0343-4169-b682-f1ed9c15d332",
   "metadata": {},
   "outputs": [],
   "source": [
    "data={'PD':mdtraj.compute_distances(traj,np.array([(i,j) for i in DNA for j in P])).std(axis=0)/mdtraj.compute_distances(traj,np.array([(i,j) for i in DNA for j in P])).mean(axis=0),}\n",
    "pd.DataFrame(data).to_csv('pd.csv')\n",
    "data={'TETRA':mdtraj.compute_distances(traj,np.array([(i,j) for i in PAB for j in PCD])).std(axis=0)/mdtraj.compute_distances(traj,np.array([(i,j) for i in PAB for j in PCD])).mean(axis=0)}\n",
    "pd.DataFrame(data).to_csv('tetra.csv')\n",
    "data={'DIMER1':mdtraj.compute_distances(traj,np.array([(i,j) for i in PA for j in PB])).std(axis=0)/mdtraj.compute_distances(traj,np.array([(i,j) for i in PA for j in PB])).mean(axis=0),}\n",
    "pd.DataFrame(data).to_csv('di1.csv')\n",
    "data={'DIMER2':mdtraj.compute_distances(traj,np.array([(i,j) for i in PC for j in PD])).std(axis=0)/mdtraj.compute_distances(traj,np.array([(i,j) for i in PC for j in PD])).mean(axis=0)}\n",
    "pd.DataFrame(data).to_csv('di2.csv')\n",
    "data={'DS':mdtraj.compute_distances(traj,np.array([(i,j) for i in DF for j in DR])).std(axis=0)/mdtraj.compute_distances(traj,np.array([(i,j) for i in DF for j in DR])).mean(axis=0),}\n",
    "pd.DataFrame(data).to_csv('ds.csv')"
   ]
  },
  {
   "cell_type": "code",
   "execution_count": 8,
   "id": "08c53b5a-5f24-4f56-84b7-f220d0330599",
   "metadata": {},
   "outputs": [
    {
     "data": {
      "text/plain": [
       "{'bodies': [<matplotlib.collections.PolyCollection at 0x7f10d2cd2790>],\n",
       " 'cmaxes': <matplotlib.collections.LineCollection at 0x7f10d2cd2d60>,\n",
       " 'cmins': <matplotlib.collections.LineCollection at 0x7f10d2d16280>,\n",
       " 'cbars': <matplotlib.collections.LineCollection at 0x7f10d2d162e0>}"
      ]
     },
     "execution_count": 8,
     "metadata": {},
     "output_type": "execute_result"
    },
    {
     "data": {
      "image/png": "[encoded data removed]",
      "text/plain": [
       "<Figure size 640x480 with 1 Axes>"
      ]
     },
     "metadata": {},
     "output_type": "display_data"
    }
   ],
   "source": [
    "data=mdtraj.compute_distances(traj,np.array([(i,j) for i in PAB for j in PCD]))\n",
    "plt.violinplot(data.std(axis=0)*10)"
   ]
  },
  {
   "cell_type": "code",
   "execution_count": 19,
   "id": "b9b889c9-7c3e-467f-9732-f20a611d2d8d",
   "metadata": {},
   "outputs": [],
   "source": [
    "#mddir=\"/media/pangpang/quzhi/GapR_slide_summary/10gc_5at/cmd202110/\"\n",
    "#traj=mdtraj.load(mddir+'md.crd',top=mddir+'md.pdb')\n",
    "mddir=\"/media/pangpang/quzhi/GapR_slide_summary/10at_5gc/cmd2111/\"\n",
    "traj=mdtraj.load(mddir+'md5ns.crd',top=mddir+'md.pdb')\n",
    "\n",
    "top=traj.topology\n",
    "poly=4\n",
    "LYSNZ=traj.xyz[:,top.select(\"name NZ and resname LYS\")]\n",
    "ARGNH=traj.xyz[:,top.select(\"name NH1 NH2 and resname ARG\")]\n",
    "OP=traj.xyz[:,top.select(\"name OP1 OP2\")]\n",
    "os.mkdir(mddir+'HBmap')"
   ]
  },
  {
   "cell_type": "code",
   "execution_count": null,
   "id": "00bedc94-25f7-497b-b6eb-6eec4f9e83a2",
   "metadata": {},
   "outputs": [],
   "source": [
    "LYSRpoint=np.where(LYSdistF[:,30,:]<0.6)\n",
    "print(LYSRpoint[1])\n",
    "print(19.5-(LYSRpoint[1]/2).astype('int8'))\n",
    "print(19.5-(LYSRpoint[1]/2).astype('int8'))\n",
    "#ax.scatter(LYSFpoint[0],(LYSFpoint[1]/2).astype('int8')+1.5,color='blue',s=100,marker='^')"
   ]
  },
  {
   "cell_type": "code",
   "execution_count": 20,
   "id": "262c6daa-7a3a-461f-bcb9-62af8e651cab",
   "metadata": {},
   "outputs": [],
   "source": [
    "LYSNZ=top.select(\"name NZ and resname LYS\")\n",
    "ARGNH=top.select(\"name NH1 NH2 and resname ARG\")\n",
    "OPF=top.select(\"name OP1 OP2 and resid 1 to 20\")\n",
    "OPR=top.select(\"name OP1 OP2 and resid 21 to 40\")\n",
    "LYSpairsF=np.array([(i,j) for i in LYSNZ for j in OPF])\n",
    "ARGpairsF=np.array([(i,j) for i in ARGNH for j in OPF])\n",
    "LYSpairsR=np.array([(i,j) for i in LYSNZ for j in OPR])\n",
    "ARGpairsR=np.array([(i,j) for i in ARGNH for j in OPR])\n",
    "LYSdistF=mdtraj.compute_distances(traj,LYSpairsF).reshape(len(traj),len(LYSNZ),len(OPF))\n",
    "LYSdistR=mdtraj.compute_distances(traj,LYSpairsR).reshape(len(traj),len(LYSNZ),len(OPR))\n",
    "ARGdistF=mdtraj.compute_distances(traj,ARGpairsF).reshape(len(traj),len(ARGNH),len(OPF))\n",
    "ARGdistR=mdtraj.compute_distances(traj,ARGpairsR).reshape(len(traj),len(ARGNH),len(OPR))\n",
    "for n,i in enumerate(LYSNZ):\n",
    "    fig,ax = plt.subplots(figsize=(50,10))\n",
    "    ax.set_ylim(0,20)\n",
    "    LYSFpoint=np.where(LYSdistF[:,n,:]<0.6)\n",
    "    LYSRpoint=np.where(LYSdistR[:,n,:]<0.6)\n",
    "    ax.scatter(LYSFpoint[0],(LYSFpoint[1]/2).astype('int8')+1.5,color='blue',s=100,marker='^')\n",
    "    ax.scatter(LYSRpoint[0],19.5-(LYSRpoint[1]/2).astype('int8'),color='blue',s=100,marker='v')\n",
    "    LYSFpoint=np.where(LYSdistF[:,n,:]<0.35)\n",
    "    LYSRpoint=np.where(LYSdistR[:,n,:]<0.35)\n",
    "    ax.scatter(LYSFpoint[0],(LYSFpoint[1]/2).astype('int8')+1.5,color='red',s=250,marker='^')\n",
    "    ax.scatter(LYSRpoint[0],19.5-(LYSRpoint[1]/2).astype('int8'),color='red',s=250,marker='v')\n",
    "    plt.xlim(0,200)\n",
    "    plt.ylim(-1,20)\n",
    "    plt.xticks(ticks=np.linspace(0,200,11),labels=np.linspace(0,1000,11),fontsize=40) \n",
    "    plt.yticks(ticks=np.linspace(0,20,5),labels=[0,5,10,15,20],fontsize=40) \n",
    "#   plt.savefig(mddir+'HBmap/'+str(top.atom(i).residue)+'.eps',format='eps')\n",
    "    plt.savefig(mddir+'HBmap/'+str(top.atom(i).residue)+'.png')\n",
    "    plt.close()\n",
    "for n,i in enumerate(ARGNH):\n",
    "    fig,ax = plt.subplots(figsize=(50,10))\n",
    "    ax.set_ylim(0,20)\n",
    "    ARGFpoint=np.where(ARGdistF[:,n,:]<0.6)\n",
    "    ARGRpoint=np.where(ARGdistR[:,n,:]<0.6)\n",
    "    ax.scatter(ARGFpoint[0],(ARGFpoint[1]/2).astype('int8')+1.5,color='blue',s=100,marker='^')\n",
    "    ax.scatter(ARGRpoint[0],19.5-(ARGRpoint[1]/2).astype('int8'),color='blue',s=100,marker='v')\n",
    "    ARGFpoint=np.where(ARGdistF[:,n,:]<0.35)\n",
    "    ARGRpoint=np.where(ARGdistR[:,n,:]<0.35)\n",
    "    ax.scatter(ARGFpoint[0],(ARGFpoint[1]/2).astype('int8')+1.5,color='red',s=250,marker='^')\n",
    "    ax.scatter(ARGRpoint[0],19.5-(ARGRpoint[1]/2).astype('int8'),color='red',s=250,marker='v')\n",
    "    plt.xlim(0,200)\n",
    "    plt.ylim(-1,20)\n",
    "    plt.xticks(ticks=np.linspace(0,200,11),labels=np.linspace(0,1000,11),fontsize=40) \n",
    "    plt.yticks(ticks=np.linspace(0,20,5),labels=[0,5,10,15,20],fontsize=40) \n",
    "#   plt.savefig(mddir+'HBmap/'+str(top.atom(i).residue)+'.eps',format='eps')\n",
    "    plt.savefig(mddir+'HBmap/'+str(top.atom(i).residue)+'.png')\n",
    "    plt.close()\n",
    "#    print(np.where(LYSdistF[:,n,:]<0.35))\n",
    "#for i,n in enumerate(LYSpairs):\n",
    "#    LYSdist[:,n[0],:]\n",
    "#fig,ax = plt.subplots(figsize=(50,10))"
   ]
  },
  {
   "cell_type": "code",
   "execution_count": null,
   "id": "94b96862",
   "metadata": {},
   "outputs": [],
   "source": []
  }
 ],
 "metadata": {
  "kernelspec": {
   "display_name": "Python 3 (ipykernel)",
   "language": "python",
   "name": "python3"
  },
  "language_info": {
   "codemirror_mode": {
    "name": "ipython",
    "version": 3
   },
   "file_extension": ".py",
   "mimetype": "text/x-python",
   "name": "python",
   "nbconvert_exporter": "python",
   "pygments_lexer": "ipython3",
   "version": "3.8.5"
  }
 },
 "nbformat": 4,
 "nbformat_minor": 5
}
